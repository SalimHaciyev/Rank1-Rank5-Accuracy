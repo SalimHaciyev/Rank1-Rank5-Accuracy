{
 "cells": [
  {
   "cell_type": "code",
   "execution_count": 1,
   "id": "3ea34a2f",
   "metadata": {},
   "outputs": [
    {
     "name": "stdout",
     "output_type": "stream",
     "text": [
      "2.7.0\n"
     ]
    }
   ],
   "source": [
    "import tensorflow as tf\n",
    "from tensorflow import keras\n",
    "import numpy as np\n",
    "import cv2\n",
    "print(tf.__version__)"
   ]
  },
  {
   "cell_type": "code",
   "execution_count": 2,
   "id": "a06fe49f",
   "metadata": {},
   "outputs": [
    {
     "data": {
      "text/plain": [
       "(28, 28)"
      ]
     },
     "execution_count": 2,
     "metadata": {},
     "output_type": "execute_result"
    }
   ],
   "source": [
    "(x_train, y_train), (x_test, y_test) = keras.datasets.mnist.load_data()\n",
    "\n",
    "len(x_train) # 60000\n",
    "\n",
    "len(x_test) # 10000\n",
    "\n",
    "x_train[0].shape "
   ]
  },
  {
   "cell_type": "code",
   "execution_count": 3,
   "id": "01a67352",
   "metadata": {},
   "outputs": [],
   "source": [
    "x_train = x_train / 255\n",
    "x_test = x_test / 255"
   ]
  },
  {
   "cell_type": "code",
   "execution_count": 4,
   "id": "30094c71",
   "metadata": {},
   "outputs": [],
   "source": [
    "x_train_flattened = x_train.reshape(len(x_train), 28*28)\n",
    "x_test_flattened = x_test.reshape(len(x_test), 28*28)"
   ]
  },
  {
   "cell_type": "code",
   "execution_count": 9,
   "id": "7332c5a8",
   "metadata": {},
   "outputs": [
    {
     "name": "stdout",
     "output_type": "stream",
     "text": [
      "Epoch 1/5\n",
      "1875/1875 [==============================] - 5s 3ms/step - loss: 0.2731 - accuracy: 0.9229\n",
      "Epoch 2/5\n",
      "1875/1875 [==============================] - 6s 3ms/step - loss: 0.1214 - accuracy: 0.9635\n",
      "Epoch 3/5\n",
      "1875/1875 [==============================] - 7s 3ms/step - loss: 0.0850 - accuracy: 0.9742\n",
      "Epoch 4/5\n",
      "1875/1875 [==============================] - 7s 3ms/step - loss: 0.0646 - accuracy: 0.9804\n",
      "Epoch 5/5\n",
      "1875/1875 [==============================] - 6s 3ms/step - loss: 0.0514 - accuracy: 0.9845\n"
     ]
    }
   ],
   "source": [
    "model = keras.Sequential([\n",
    "    keras.layers.Dense(100, input_shape=(784,), activation='relu'),\n",
    "    keras.layers.Dense(10, activation='sigmoid')\n",
    "])\n",
    "\n",
    "\n",
    "model.compile(\n",
    "    optimizer='adam',\n",
    "    loss='sparse_categorical_crossentropy',\n",
    "    metrics=['accuracy']\n",
    ")\n",
    "\n",
    "history = model.fit(x_train_flattened, y_train, epochs=5)"
   ]
  },
  {
   "cell_type": "code",
   "execution_count": 10,
   "id": "845890ae",
   "metadata": {},
   "outputs": [
    {
     "name": "stdout",
     "output_type": "stream",
     "text": [
      "313/313 [==============================] - 1s 3ms/step - loss: 0.0761 - accuracy: 0.9781\n"
     ]
    },
    {
     "data": {
      "text/plain": [
       "[0.07612281292676926, 0.9781000018119812]"
      ]
     },
     "execution_count": 10,
     "metadata": {},
     "output_type": "execute_result"
    }
   ],
   "source": [
    "model.evaluate(x_test_flattened, y_test)"
   ]
  },
  {
   "cell_type": "markdown",
   "id": "7d5435fa",
   "metadata": {},
   "source": [
    "# Rank-1 accuracy"
   ]
  },
  {
   "cell_type": "code",
   "execution_count": 88,
   "id": "fda9d03f",
   "metadata": {},
   "outputs": [],
   "source": [
    "def custom_image(img_path):\n",
    "    img_path = \"C:/Users/ASUS TUF/Desktop/Quick Access/dl/  /\" + img_path\n",
    "    img2 = cv2.imread(img_path, 0)\n",
    "\n",
    "    img2 = img2 / 255\n",
    "    img2 = img2.reshape(1, 28*28)\n",
    "    \n",
    "    img2Y = model.predict(img2)\n",
    "    img2_result = np.argmax(img2Y)\n",
    "    print(\"Result -> \", img2_result, end = \"\\t\")\n",
    "\n",
    "    img2Y = img2Y.reshape(10)\n",
    "    scce = tf.keras.losses.SparseCategoricalCrossentropy()\n",
    "    print(\"Loss:\",scce(img2_result, img2Y).numpy())\n",
    "    return img2_result"
   ]
  },
  {
   "cell_type": "code",
   "execution_count": 89,
   "id": "abc1b123",
   "metadata": {
    "scrolled": true
   },
   "outputs": [
    {
     "name": "stdout",
     "output_type": "stream",
     "text": [
      "---The tested number:  0\n",
      "Result ->  6\tLoss: 1.4458361\n",
      "Result ->  9\tLoss: 1.6284527\n",
      "Result ->  3\tLoss: 1.291334\n",
      "\n",
      "---The tested number:  1\n",
      "Result ->  1\tLoss: 1.3230598\n",
      "Result ->  5\tLoss: 1.6302848\n",
      "Result ->  3\tLoss: 1.0377642\n",
      "\n",
      "---The tested number:  2\n",
      "Result ->  2\tLoss: 0.9755621\n",
      "Result ->  2\tLoss: 1.2708485\n",
      "Result ->  3\tLoss: 0.83873045\n",
      "\n",
      "---The tested number:  3\n",
      "Result ->  2\tLoss: 1.3318615\n",
      "Result ->  2\tLoss: 0.69384444\n",
      "Result ->  3\tLoss: 1.483598\n",
      "\n",
      "---The tested number:  4\n",
      "Result ->  4\tLoss: 1.3906215\n",
      "Result ->  4\tLoss: 1.088283\n",
      "Result ->  7\tLoss: 1.1328514\n",
      "\n",
      "---The tested number:  5\n",
      "Result ->  2\tLoss: 1.366093\n",
      "Result ->  5\tLoss: 1.0800189\n",
      "Result ->  3\tLoss: 1.1656868\n",
      "\n",
      "---The tested number:  6\n",
      "Result ->  6\tLoss: 1.3479868\n",
      "Result ->  8\tLoss: 1.2191948\n",
      "Result ->  7\tLoss: 0.9560714\n",
      "\n",
      "---The tested number:  7\n",
      "Result ->  7\tLoss: 1.2732733\n",
      "Result ->  2\tLoss: 1.1169707\n",
      "Result ->  3\tLoss: 1.0980316\n",
      "\n",
      "---The tested number:  8\n",
      "Result ->  3\tLoss: 1.2353864\n",
      "Result ->  4\tLoss: 1.6284305\n",
      "Result ->  7\tLoss: 1.4126388\n",
      "\n",
      "---The tested number:  9\n",
      "Result ->  1\tLoss: 1.3302214\n",
      "Result ->  2\tLoss: 1.2410702\n",
      "Result ->  3\tLoss: 1.3243756\n",
      "\n"
     ]
    }
   ],
   "source": [
    "acc = 0\n",
    "for xx in range(0, 10):\n",
    "  print(\"---The tested number: \", xx)\n",
    "\n",
    "  test1 = custom_image(f't{xx}.png')\n",
    "  if(test1 == xx) : acc+=1\n",
    "\n",
    "  test2 = custom_image(f't{xx}-2.png')\n",
    "  if(test2 == xx) : acc+=1\n",
    "  \n",
    "  test3 = custom_image(f't{xx}-3.png')\n",
    "  if(test3 == xx) : acc+=1\n",
    "\n",
    "  print()"
   ]
  },
  {
   "cell_type": "code",
   "execution_count": 90,
   "id": "4136e69b",
   "metadata": {},
   "outputs": [
    {
     "name": "stdout",
     "output_type": "stream",
     "text": [
      "The accuracy is: 30 %\n"
     ]
    }
   ],
   "source": [
    "print('The accuracy is:', int(acc/0.3), '%')"
   ]
  },
  {
   "cell_type": "markdown",
   "id": "cbcd7b86",
   "metadata": {},
   "source": [
    "# Rank-5 accuracy"
   ]
  },
  {
   "cell_type": "code",
   "execution_count": 1,
   "id": "744822f0",
   "metadata": {},
   "outputs": [
    {
     "data": {
      "text/plain": [
       "array([3, 1, 2, 0], dtype=int64)"
      ]
     },
     "execution_count": 1,
     "metadata": {},
     "output_type": "execute_result"
    }
   ],
   "source": [
    "from numpy import array\n",
    "from numpy import argsort\n",
    "argsort(array([1, 3, 2, 4]))[::-1]"
   ]
  },
  {
   "cell_type": "code",
   "execution_count": 2,
   "id": "042c7904",
   "metadata": {},
   "outputs": [
    {
     "data": {
      "text/plain": [
       "array([2, 0, 1], dtype=int64)"
      ]
     },
     "execution_count": 2,
     "metadata": {},
     "output_type": "execute_result"
    }
   ],
   "source": [
    "argsort([2, 3, 1])  # 1 2 3"
   ]
  },
  {
   "cell_type": "code",
   "execution_count": 4,
   "id": "d7c2be7b",
   "metadata": {},
   "outputs": [
    {
     "data": {
      "text/plain": [
       "array([1, 2, 3])"
      ]
     },
     "execution_count": 4,
     "metadata": {},
     "output_type": "execute_result"
    }
   ],
   "source": [
    "array([2, 3, 1])[argsort([2, 3, 1])]"
   ]
  },
  {
   "cell_type": "code",
   "execution_count": 91,
   "id": "3743ae32",
   "metadata": {},
   "outputs": [],
   "source": [
    "def custom_image(img_path):\n",
    "    img_path = \"C:/Users/ASUS TUF/Desktop/Quick Access/dl/custom handwritings/\" + img_path\n",
    "    img2 = cv2.imread(img_path, 0)\n",
    "\n",
    "    img2 = img2 / 255\n",
    "    img2 = img2.reshape(1, 28*28)\n",
    "    \n",
    "    img2Y = model.predict(img2)\n",
    "    img2_result = np.argsort(img2Y).reshape(-1)[:-6:-1]\n",
    "    \n",
    "    print(\"\\tResult -> \", img2_result, end = \"\\t\")\n",
    "\n",
    "    img2Y = img2Y.reshape(10)\n",
    "    return img2_result"
   ]
  },
  {
   "cell_type": "code",
   "execution_count": 92,
   "id": "dfbac421",
   "metadata": {},
   "outputs": [
    {
     "name": "stdout",
     "output_type": "stream",
     "text": [
      "---The tested number:  0\tResult ->  [6 0 4 3 7]\t\tResult ->  [9 7 2 0 5]\t\tResult ->  [3 7 8 2 5]\t\n",
      "\n",
      "---The tested number:  1\tResult ->  [1 7 2 4 5]\t\tResult ->  [5 8 6 4 1]\t\tResult ->  [3 7 8 2 6]\t\n",
      "\n",
      "---The tested number:  2\tResult ->  [2 1 5 8 6]\t\tResult ->  [2 3 1 8 6]\t\tResult ->  [3 7 2 8 5]\t\n",
      "\n",
      "---The tested number:  3\tResult ->  [2 6 3 5 1]\t\tResult ->  [2 3 8 1 4]\t\tResult ->  [3 7 8 2 6]\t\n",
      "\n",
      "---The tested number:  4\tResult ->  [4 8 9 3 7]\t\tResult ->  [4 7 8 2 9]\t\tResult ->  [7 3 8 2 9]\t\n",
      "\n",
      "---The tested number:  5\tResult ->  [2 8 5 3 6]\t\tResult ->  [5 1 6 3 8]\t\tResult ->  [3 7 8 2 6]\t\n",
      "\n",
      "---The tested number:  6\tResult ->  [6 8 5 0 7]\t\tResult ->  [8 5 6 2 9]\t\tResult ->  [7 3 2 8 5]\t\n",
      "\n",
      "---The tested number:  7\tResult ->  [7 3 2 1 8]\t\tResult ->  [2 1 8 3 4]\t\tResult ->  [3 7 8 2 5]\t\n",
      "\n",
      "---The tested number:  8\tResult ->  [3 2 5 8 6]\t\tResult ->  [4 6 7 2 3]\t\tResult ->  [7 3 2 8 6]\t\n",
      "\n",
      "---The tested number:  9\tResult ->  [1 6 7 2 3]\t\tResult ->  [2 3 1 7 9]\t\tResult ->  [3 7 2 8 5]\t\n",
      "\n"
     ]
    }
   ],
   "source": [
    "acc2 = 0\n",
    "for xx in range(0, 10):\n",
    "  print(\"---The tested number: \", xx, end= \"\")\n",
    "\n",
    "  test1 = custom_image(f't{xx}.png')\n",
    "  if(xx in test1) : acc2+=1\n",
    "\n",
    "  test2 = custom_image(f't{xx}-2.png')\n",
    "  if(xx in test1) : acc2+=1\n",
    "  \n",
    "  test3 = custom_image(f't{xx}-3.png')\n",
    "  if(xx in test1) : acc2+=1\n",
    "\n",
    "  print(\"\\n\")"
   ]
  },
  {
   "cell_type": "code",
   "execution_count": 94,
   "id": "d6778921",
   "metadata": {},
   "outputs": [
    {
     "name": "stdout",
     "output_type": "stream",
     "text": [
      "The accuracy is: 90 %\n"
     ]
    }
   ],
   "source": [
    "print('The accuracy is:', int(acc2/0.3), '%')"
   ]
  },
  {
   "cell_type": "code",
   "execution_count": 101,
   "id": "e815fad8",
   "metadata": {},
   "outputs": [
    {
     "name": "stdout",
     "output_type": "stream",
     "text": [
      "True positives:\t\tRank-1: 9\tRank-5: 27\n",
      "Accuracy:\t\tRank-1: 30%\tRank-5: 90%\n"
     ]
    }
   ],
   "source": [
    "print(f'True positives:\\t\\tRank-1: {acc}\\tRank-5: {acc2}')\n",
    "print(f'Accuracy:\\t\\tRank-1: {int(acc/0.3)}%\\tRank-5: {int(acc2/0.3)}%')"
   ]
  }
 ],
 "metadata": {
  "kernelspec": {
   "display_name": "Python 3",
   "language": "python",
   "name": "python3"
  },
  "language_info": {
   "codemirror_mode": {
    "name": "ipython",
    "version": 3
   },
   "file_extension": ".py",
   "mimetype": "text/x-python",
   "name": "python",
   "nbconvert_exporter": "python",
   "pygments_lexer": "ipython3",
   "version": "3.8.8"
  }
 },
 "nbformat": 4,
 "nbformat_minor": 5
}
